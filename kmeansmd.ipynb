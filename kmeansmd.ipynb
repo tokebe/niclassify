{
 "nbformat": 4,
 "nbformat_minor": 2,
 "metadata": {
  "language_info": {
   "name": "python",
   "codemirror_mode": {
    "name": "ipython",
    "version": 3
   },
   "version": "3.7.1-final"
  },
  "orig_nbformat": 2,
  "file_extension": ".py",
  "mimetype": "text/x-python",
  "name": "python",
  "npconvert_exporter": "python",
  "pygments_lexer": "ipython3",
  "version": 3,
  "kernelspec": {
   "name": "python37164bitd3933d3e47b04d8db38199ec3835d743",
   "display_name": "Python 3.7.1 64-bit"
  }
 },
 "cells": [
  {
   "cell_type": "code",
   "execution_count": 38,
   "metadata": {},
   "outputs": [],
   "source": [
    "import pandas as pd\n",
    "import matplotlib as plt\n",
    "import seaborn as sns\n",
    "import numpy as np\n",
    "\n",
    "from sklearn import preprocessing\n",
    "from sklearn.cluster import KMeans\n",
    "from sklearn.pipeline import make_pipeline\n",
    "from sklearn.preprocessing import StandardScaler\n",
    "from sklearn.impute import SimpleImputer\n",
    "\n",
    "sns.set()"
   ]
  },
  {
   "cell_type": "code",
   "execution_count": 39,
   "metadata": {},
   "outputs": [],
   "source": [
    "res = pd.read_csv(\n",
    "    \"data/NEallResults.csv\"\n",
    ")"
   ]
  },
  {
   "cell_type": "code",
   "execution_count": 40,
   "metadata": {},
   "outputs": [
    {
     "name": "stdout",
     "output_type": "stream",
     "text": "180\n180\n"
    }
   ],
   "source": [
    "# Check that the group columns are the same\n",
    "print(sum([1 if x[\"Group\"].lower() == x[\"Group2\"].lower() else 0 for i, x in res.iterrows()]))\n",
    "print(res.shape[0])"
   ]
  },
  {
   "cell_type": "code",
   "execution_count": 41,
   "metadata": {},
   "outputs": [],
   "source": [
    "res = res.drop(labels=[\"Group\", \"Regions\"], axis=1)"
   ]
  },
  {
   "cell_type": "code",
   "execution_count": 42,
   "metadata": {},
   "outputs": [
    {
     "data": {
      "text/html": "<div>\n<style scoped>\n    .dataframe tbody tr th:only-of-type {\n        vertical-align: middle;\n    }\n\n    .dataframe tbody tr th {\n        vertical-align: top;\n    }\n\n    .dataframe thead th {\n        text-align: right;\n    }\n</style>\n<table border=\"1\" class=\"dataframe\">\n  <thead>\n    <tr style=\"text-align: right;\">\n      <th></th>\n      <th>Species</th>\n      <th>N</th>\n      <th>Status</th>\n      <th>Group2</th>\n      <th>MLdistance</th>\n      <th>MLsimilarity</th>\n      <th>AAdistance</th>\n      <th>AAsimilarity</th>\n      <th>ZtestDistance</th>\n      <th>ZtestSimilarity</th>\n      <th>Nsdistance</th>\n      <th>Nssimilarity</th>\n      <th>PatristicDistance</th>\n      <th>PatristicSimilarity</th>\n    </tr>\n  </thead>\n  <tbody>\n    <tr>\n      <th>0</th>\n      <td>Camponotus pennsylvanicus</td>\n      <td>9</td>\n      <td>native</td>\n      <td>group_1</td>\n      <td>0.056518</td>\n      <td>0.008377</td>\n      <td>0.009174</td>\n      <td>0.004669</td>\n      <td>0.0</td>\n      <td>0.368472</td>\n      <td>0.003991</td>\n      <td>0.002035</td>\n      <td>0.060167</td>\n      <td>0.014500</td>\n    </tr>\n    <tr>\n      <th>1</th>\n      <td>Sirex noctilio</td>\n      <td>10</td>\n      <td>introduced</td>\n      <td>group_10</td>\n      <td>0.093284</td>\n      <td>0.000000</td>\n      <td>0.056353</td>\n      <td>0.000000</td>\n      <td>0.0</td>\n      <td>1.000000</td>\n      <td>0.034120</td>\n      <td>0.000000</td>\n      <td>0.100500</td>\n      <td>0.001000</td>\n    </tr>\n    <tr>\n      <th>2</th>\n      <td>NaN</td>\n      <td>1</td>\n      <td>NaN</td>\n      <td>group_100</td>\n      <td>0.185581</td>\n      <td>NaN</td>\n      <td>0.177548</td>\n      <td>NaN</td>\n      <td>0.0</td>\n      <td>NaN</td>\n      <td>0.104671</td>\n      <td>NaN</td>\n      <td>0.184000</td>\n      <td>NaN</td>\n    </tr>\n    <tr>\n      <th>3</th>\n      <td>NaN</td>\n      <td>2</td>\n      <td>NaN</td>\n      <td>group_101</td>\n      <td>0.138241</td>\n      <td>0.004578</td>\n      <td>0.075398</td>\n      <td>0.000000</td>\n      <td>0.0</td>\n      <td>0.082645</td>\n      <td>0.052993</td>\n      <td>0.000000</td>\n      <td>0.112500</td>\n      <td>0.005000</td>\n    </tr>\n    <tr>\n      <th>4</th>\n      <td>Vespula maculifrons</td>\n      <td>4</td>\n      <td>native</td>\n      <td>group_102</td>\n      <td>0.202992</td>\n      <td>0.005274</td>\n      <td>0.182382</td>\n      <td>0.000000</td>\n      <td>0.0</td>\n      <td>0.088132</td>\n      <td>0.104135</td>\n      <td>0.000000</td>\n      <td>0.135500</td>\n      <td>0.009667</td>\n    </tr>\n  </tbody>\n</table>\n</div>",
      "text/plain": "                     Species   N      Status     Group2  MLdistance  \\\n0  Camponotus pennsylvanicus   9      native    group_1    0.056518   \n1             Sirex noctilio  10  introduced   group_10    0.093284   \n2                        NaN   1         NaN  group_100    0.185581   \n3                        NaN   2         NaN  group_101    0.138241   \n4        Vespula maculifrons   4      native  group_102    0.202992   \n\n   MLsimilarity  AAdistance  AAsimilarity  ZtestDistance  ZtestSimilarity  \\\n0      0.008377    0.009174      0.004669            0.0         0.368472   \n1      0.000000    0.056353      0.000000            0.0         1.000000   \n2           NaN    0.177548           NaN            0.0              NaN   \n3      0.004578    0.075398      0.000000            0.0         0.082645   \n4      0.005274    0.182382      0.000000            0.0         0.088132   \n\n   Nsdistance  Nssimilarity  PatristicDistance  PatristicSimilarity  \n0    0.003991      0.002035           0.060167             0.014500  \n1    0.034120      0.000000           0.100500             0.001000  \n2    0.104671           NaN           0.184000                  NaN  \n3    0.052993      0.000000           0.112500             0.005000  \n4    0.104135      0.000000           0.135500             0.009667  "
     },
     "execution_count": 42,
     "metadata": {},
     "output_type": "execute_result"
    }
   ],
   "source": [
    "res.head()"
   ]
  },
  {
   "cell_type": "code",
   "execution_count": 43,
   "metadata": {},
   "outputs": [
    {
     "data": {
      "text/html": "<div>\n<style scoped>\n    .dataframe tbody tr th:only-of-type {\n        vertical-align: middle;\n    }\n\n    .dataframe tbody tr th {\n        vertical-align: top;\n    }\n\n    .dataframe thead th {\n        text-align: right;\n    }\n</style>\n<table border=\"1\" class=\"dataframe\">\n  <thead>\n    <tr style=\"text-align: right;\">\n      <th></th>\n      <th>MLdistance</th>\n      <th>MLsimilarity</th>\n      <th>AAdistance</th>\n      <th>AAsimilarity</th>\n      <th>ZtestDistance</th>\n      <th>ZtestSimilarity</th>\n      <th>Nsdistance</th>\n      <th>Nssimilarity</th>\n      <th>PatristicDistance</th>\n      <th>PatristicSimilarity</th>\n    </tr>\n  </thead>\n  <tbody>\n    <tr>\n      <th>0</th>\n      <td>0.056518</td>\n      <td>0.008377</td>\n      <td>0.009174</td>\n      <td>0.004669</td>\n      <td>0.0</td>\n      <td>0.368472</td>\n      <td>0.003991</td>\n      <td>0.002035</td>\n      <td>0.060167</td>\n      <td>0.014500</td>\n    </tr>\n    <tr>\n      <th>1</th>\n      <td>0.093284</td>\n      <td>0.000000</td>\n      <td>0.056353</td>\n      <td>0.000000</td>\n      <td>0.0</td>\n      <td>1.000000</td>\n      <td>0.034120</td>\n      <td>0.000000</td>\n      <td>0.100500</td>\n      <td>0.001000</td>\n    </tr>\n    <tr>\n      <th>2</th>\n      <td>0.185581</td>\n      <td>NaN</td>\n      <td>0.177548</td>\n      <td>NaN</td>\n      <td>0.0</td>\n      <td>NaN</td>\n      <td>0.104671</td>\n      <td>NaN</td>\n      <td>0.184000</td>\n      <td>NaN</td>\n    </tr>\n    <tr>\n      <th>3</th>\n      <td>0.138241</td>\n      <td>0.004578</td>\n      <td>0.075398</td>\n      <td>0.000000</td>\n      <td>0.0</td>\n      <td>0.082645</td>\n      <td>0.052993</td>\n      <td>0.000000</td>\n      <td>0.112500</td>\n      <td>0.005000</td>\n    </tr>\n    <tr>\n      <th>4</th>\n      <td>0.202992</td>\n      <td>0.005274</td>\n      <td>0.182382</td>\n      <td>0.000000</td>\n      <td>0.0</td>\n      <td>0.088132</td>\n      <td>0.104135</td>\n      <td>0.000000</td>\n      <td>0.135500</td>\n      <td>0.009667</td>\n    </tr>\n  </tbody>\n</table>\n</div>",
      "text/plain": "   MLdistance  MLsimilarity  AAdistance  AAsimilarity  ZtestDistance  \\\n0    0.056518      0.008377    0.009174      0.004669            0.0   \n1    0.093284      0.000000    0.056353      0.000000            0.0   \n2    0.185581           NaN    0.177548           NaN            0.0   \n3    0.138241      0.004578    0.075398      0.000000            0.0   \n4    0.202992      0.005274    0.182382      0.000000            0.0   \n\n   ZtestSimilarity  Nsdistance  Nssimilarity  PatristicDistance  \\\n0         0.368472    0.003991      0.002035           0.060167   \n1         1.000000    0.034120      0.000000           0.100500   \n2              NaN    0.104671           NaN           0.184000   \n3         0.082645    0.052993      0.000000           0.112500   \n4         0.088132    0.104135      0.000000           0.135500   \n\n   PatristicSimilarity  \n0             0.014500  \n1             0.001000  \n2                  NaN  \n3             0.005000  \n4             0.009667  "
     },
     "execution_count": 43,
     "metadata": {},
     "output_type": "execute_result"
    }
   ],
   "source": [
    "metadata = res.iloc[:, :4] # select data not used for clustering\n",
    "metadata.head()\n",
    "data = res.iloc[:, 4:] # select data for clustering\n",
    "data.head()"
   ]
  },
  {
   "cell_type": "code",
   "execution_count": 44,
   "metadata": {},
   "outputs": [
    {
     "data": {
      "text/html": "<div>\n<style scoped>\n    .dataframe tbody tr th:only-of-type {\n        vertical-align: middle;\n    }\n\n    .dataframe tbody tr th {\n        vertical-align: top;\n    }\n\n    .dataframe thead th {\n        text-align: right;\n    }\n</style>\n<table border=\"1\" class=\"dataframe\">\n  <thead>\n    <tr style=\"text-align: right;\">\n      <th></th>\n      <th>0</th>\n      <th>1</th>\n      <th>2</th>\n      <th>3</th>\n      <th>4</th>\n      <th>5</th>\n      <th>6</th>\n      <th>7</th>\n      <th>8</th>\n      <th>9</th>\n    </tr>\n  </thead>\n  <tbody>\n    <tr>\n      <th>0</th>\n      <td>0.056518</td>\n      <td>0.008377</td>\n      <td>0.009174</td>\n      <td>0.004669</td>\n      <td>0.0</td>\n      <td>0.368472</td>\n      <td>0.003991</td>\n      <td>0.002035</td>\n      <td>0.060167</td>\n      <td>0.014500</td>\n    </tr>\n    <tr>\n      <th>1</th>\n      <td>0.093284</td>\n      <td>0.000000</td>\n      <td>0.056353</td>\n      <td>0.000000</td>\n      <td>0.0</td>\n      <td>1.000000</td>\n      <td>0.034120</td>\n      <td>0.000000</td>\n      <td>0.100500</td>\n      <td>0.001000</td>\n    </tr>\n    <tr>\n      <th>2</th>\n      <td>0.185581</td>\n      <td>0.002559</td>\n      <td>0.177548</td>\n      <td>0.000679</td>\n      <td>0.0</td>\n      <td>0.629096</td>\n      <td>0.104671</td>\n      <td>0.000290</td>\n      <td>0.184000</td>\n      <td>0.004301</td>\n    </tr>\n    <tr>\n      <th>3</th>\n      <td>0.138241</td>\n      <td>0.004578</td>\n      <td>0.075398</td>\n      <td>0.000000</td>\n      <td>0.0</td>\n      <td>0.082645</td>\n      <td>0.052993</td>\n      <td>0.000000</td>\n      <td>0.112500</td>\n      <td>0.005000</td>\n    </tr>\n    <tr>\n      <th>4</th>\n      <td>0.202992</td>\n      <td>0.005274</td>\n      <td>0.182382</td>\n      <td>0.000000</td>\n      <td>0.0</td>\n      <td>0.088132</td>\n      <td>0.104135</td>\n      <td>0.000000</td>\n      <td>0.135500</td>\n      <td>0.009667</td>\n    </tr>\n  </tbody>\n</table>\n</div>",
      "text/plain": "          0         1         2         3    4         5         6         7  \\\n0  0.056518  0.008377  0.009174  0.004669  0.0  0.368472  0.003991  0.002035   \n1  0.093284  0.000000  0.056353  0.000000  0.0  1.000000  0.034120  0.000000   \n2  0.185581  0.002559  0.177548  0.000679  0.0  0.629096  0.104671  0.000290   \n3  0.138241  0.004578  0.075398  0.000000  0.0  0.082645  0.052993  0.000000   \n4  0.202992  0.005274  0.182382  0.000000  0.0  0.088132  0.104135  0.000000   \n\n          8         9  \n0  0.060167  0.014500  \n1  0.100500  0.001000  \n2  0.184000  0.004301  \n3  0.112500  0.005000  \n4  0.135500  0.009667  "
     },
     "execution_count": 44,
     "metadata": {},
     "output_type": "execute_result"
    }
   ],
   "source": [
    "data_np = data.to_numpy() # convert to numpy for imputer\n",
    "# make imputer\n",
    "imp_mean = SimpleImputer(missing_values=np.nan, strategy='mean')\n",
    "data_np = imp_mean.fit_transform(data_np)\n",
    "pd.DataFrame(data_np).head()\n"
   ]
  },
  {
   "cell_type": "code",
   "execution_count": 45,
   "metadata": {},
   "outputs": [],
   "source": [
    "scaler = preprocessing.MinMaxScaler()"
   ]
  },
  {
   "cell_type": "code",
   "execution_count": 46,
   "metadata": {},
   "outputs": [
    {
     "data": {
      "text/html": "<div>\n<style scoped>\n    .dataframe tbody tr th:only-of-type {\n        vertical-align: middle;\n    }\n\n    .dataframe tbody tr th {\n        vertical-align: top;\n    }\n\n    .dataframe thead th {\n        text-align: right;\n    }\n</style>\n<table border=\"1\" class=\"dataframe\">\n  <thead>\n    <tr style=\"text-align: right;\">\n      <th></th>\n      <th>Species</th>\n      <th>N</th>\n      <th>Status</th>\n      <th>Group2</th>\n      <th>MLdistance</th>\n      <th>MLsimilarity</th>\n      <th>AAdistance</th>\n      <th>AAsimilarity</th>\n      <th>ZtestDistance</th>\n      <th>ZtestSimilarity</th>\n      <th>Nsdistance</th>\n      <th>Nssimilarity</th>\n      <th>PatristicDistance</th>\n      <th>PatristicSimilarity</th>\n    </tr>\n  </thead>\n  <tbody>\n    <tr>\n      <th>0</th>\n      <td>Camponotus pennsylvanicus</td>\n      <td>9</td>\n      <td>native</td>\n      <td>group_1</td>\n      <td>0.080080</td>\n      <td>0.472190</td>\n      <td>0.024540</td>\n      <td>0.293343</td>\n      <td>0.0</td>\n      <td>0.361449</td>\n      <td>0.015811</td>\n      <td>0.302313</td>\n      <td>0.100611</td>\n      <td>0.537037</td>\n    </tr>\n    <tr>\n      <th>1</th>\n      <td>Sirex noctilio</td>\n      <td>10</td>\n      <td>introduced</td>\n      <td>group_10</td>\n      <td>0.175632</td>\n      <td>0.000000</td>\n      <td>0.150733</td>\n      <td>0.000000</td>\n      <td>0.0</td>\n      <td>1.000000</td>\n      <td>0.135177</td>\n      <td>0.000000</td>\n      <td>0.214386</td>\n      <td>0.037037</td>\n    </tr>\n    <tr>\n      <th>2</th>\n      <td>NaN</td>\n      <td>1</td>\n      <td>NaN</td>\n      <td>group_100</td>\n      <td>0.415500</td>\n      <td>0.144228</td>\n      <td>0.474906</td>\n      <td>0.042640</td>\n      <td>0.0</td>\n      <td>0.624971</td>\n      <td>0.414693</td>\n      <td>0.043098</td>\n      <td>0.449929</td>\n      <td>0.159295</td>\n    </tr>\n    <tr>\n      <th>3</th>\n      <td>NaN</td>\n      <td>2</td>\n      <td>NaN</td>\n      <td>group_101</td>\n      <td>0.292468</td>\n      <td>0.258041</td>\n      <td>0.201675</td>\n      <td>0.000000</td>\n      <td>0.0</td>\n      <td>0.072444</td>\n      <td>0.209952</td>\n      <td>0.000000</td>\n      <td>0.248237</td>\n      <td>0.185185</td>\n    </tr>\n    <tr>\n      <th>4</th>\n      <td>Vespula maculifrons</td>\n      <td>4</td>\n      <td>native</td>\n      <td>group_102</td>\n      <td>0.460749</td>\n      <td>0.297275</td>\n      <td>0.487836</td>\n      <td>0.000000</td>\n      <td>0.0</td>\n      <td>0.077992</td>\n      <td>0.412567</td>\n      <td>0.000000</td>\n      <td>0.313117</td>\n      <td>0.358025</td>\n    </tr>\n  </tbody>\n</table>\n</div>",
      "text/plain": "                     Species   N      Status     Group2  MLdistance  \\\n0  Camponotus pennsylvanicus   9      native    group_1    0.080080   \n1             Sirex noctilio  10  introduced   group_10    0.175632   \n2                        NaN   1         NaN  group_100    0.415500   \n3                        NaN   2         NaN  group_101    0.292468   \n4        Vespula maculifrons   4      native  group_102    0.460749   \n\n   MLsimilarity  AAdistance  AAsimilarity  ZtestDistance  ZtestSimilarity  \\\n0      0.472190    0.024540      0.293343            0.0         0.361449   \n1      0.000000    0.150733      0.000000            0.0         1.000000   \n2      0.144228    0.474906      0.042640            0.0         0.624971   \n3      0.258041    0.201675      0.000000            0.0         0.072444   \n4      0.297275    0.487836      0.000000            0.0         0.077992   \n\n   Nsdistance  Nssimilarity  PatristicDistance  PatristicSimilarity  \n0    0.015811      0.302313           0.100611             0.537037  \n1    0.135177      0.000000           0.214386             0.037037  \n2    0.414693      0.043098           0.449929             0.159295  \n3    0.209952      0.000000           0.248237             0.185185  \n4    0.412567      0.000000           0.313117             0.358025  "
     },
     "execution_count": 46,
     "metadata": {},
     "output_type": "execute_result"
    }
   ],
   "source": [
    "\n",
    "resnorm = pd.DataFrame(scaler.fit_transform(data_np))\n",
    "resnorm = pd.concat([metadata, resnorm], axis=1)\n",
    "resnorm.columns = res.columns\n",
    "resnorm.head()\n"
   ]
  },
  {
   "cell_type": "code",
   "execution_count": 49,
   "metadata": {},
   "outputs": [],
   "source": [
    "known = resnorm[resnorm[\"Status\"].notnull()]"
   ]
  },
  {
   "cell_type": "code",
   "execution_count": 50,
   "metadata": {},
   "outputs": [],
   "source": [
    "def create_kmeans(x, k):\n",
    "    \"\"\"Create list of cluster ID's using k-means clustering.\n",
    "\n",
    "    Args:\n",
    "        x (ndarray): Data to cluster.\n",
    "        k (int): number of clusters to make\n",
    "\n",
    "    Returns:\n",
    "        array: cluster ID's\n",
    "\n",
    "    \"\"\"\n",
    "    # kmeans = make_pipeline(\n",
    "    #     StandardScaler().fit_transform(),\n",
    "    #     KMeans(n_clusters=k)\n",
    "    # )\n",
    "    kmeans = KMeans(n_clusters=k)\n",
    "\n",
    "    return kmeans.fit_predict(x)"
   ]
  },
  {
   "cell_type": "code",
   "execution_count": 51,
   "metadata": {},
   "outputs": [
    {
     "name": "stderr",
     "output_type": "stream",
     "text": "C:\\Users\\J C\\AppData\\Roaming\\Python\\Python37\\site-packages\\ipykernel_launcher.py:1: SettingWithCopyWarning: \nA value is trying to be set on a copy of a slice from a DataFrame.\nTry using .loc[row_indexer,col_indexer] = value instead\n\nSee the caveats in the documentation: http://pandas.pydata.org/pandas-docs/stable/indexing.html#indexing-view-versus-copy\n  \"\"\"Entry point for launching an IPython kernel.\n"
    }
   ],
   "source": [
    "known[\"Cluster\"] = create_kmeans(known.iloc[:, 4:], 2)"
   ]
  },
  {
   "cell_type": "code",
   "execution_count": 52,
   "metadata": {},
   "outputs": [
    {
     "name": "stdout",
     "output_type": "stream",
     "text": "Number of 1's matched to native : 20\nNumber of 0's matched to native : 47\nNumber of 1's matched to introd :  4\nNumber of 0's matched to introd :  4\n"
    }
   ],
   "source": [
    "nmatch1 = known[(known[\"Status\"] == \"native\") & (known[\"Cluster\"] == 1)].shape[0]\n",
    "nmatch0 = known[(known[\"Status\"] == \"native\") & (known[\"Cluster\"] == 0)].shape[0]\n",
    "imatch1 = known[(known[\"Status\"] == \"introduced\") & (known[\"Cluster\"] == 1)].shape[0]\n",
    "imatch0 = known[(known[\"Status\"] == \"introduced\") & (known[\"Cluster\"] == 0)].shape[0]\n",
    "\n",
    "nmatch_choice = 1 if nmatch1 > nmatch0 else 0\n",
    "\n",
    "print(\"Number of 1's matched to native : {:2d}\".format(nmatch1))\n",
    "print(\"Number of 0's matched to native : {:2d}\".format(nmatch0))\n",
    "print(\"Number of 1's matched to introd : {:2d}\".format(imatch1))\n",
    "print(\"Number of 0's matched to introd : {:2d}\".format(imatch0))\n"
   ]
  },
  {
   "cell_type": "code",
   "execution_count": 53,
   "metadata": {},
   "outputs": [
    {
     "name": "stderr",
     "output_type": "stream",
     "text": "C:\\Users\\J C\\AppData\\Roaming\\Python\\Python37\\site-packages\\ipykernel_launcher.py:1: SettingWithCopyWarning: \nA value is trying to be set on a copy of a slice from a DataFrame.\nTry using .loc[row_indexer,col_indexer] = value instead\n\nSee the caveats in the documentation: http://pandas.pydata.org/pandas-docs/stable/indexing.html#indexing-view-versus-copy\n  \"\"\"Entry point for launching an IPython kernel.\n"
    }
   ],
   "source": [
    "known[\"Predict\"] = [\"native\" if x == nmatch_choice else \"introduced\" for x in known[\"Cluster\"]]"
   ]
  },
  {
   "cell_type": "code",
   "execution_count": 54,
   "metadata": {},
   "outputs": [
    {
     "name": "stderr",
     "output_type": "stream",
     "text": "C:\\Users\\J C\\AppData\\Roaming\\Python\\Python37\\site-packages\\ipykernel_launcher.py:1: SettingWithCopyWarning: \nA value is trying to be set on a copy of a slice from a DataFrame.\nTry using .loc[row_indexer,col_indexer] = value instead\n\nSee the caveats in the documentation: http://pandas.pydata.org/pandas-docs/stable/indexing.html#indexing-view-versus-copy\n  \"\"\"Entry point for launching an IPython kernel.\n"
    }
   ],
   "source": [
    "known[\"Correct\"] = known.apply(lambda row: 1 if row[\"Status\"] == row[\"Predict\"] else 0, axis=1)"
   ]
  },
  {
   "cell_type": "code",
   "execution_count": 57,
   "metadata": {},
   "outputs": [
    {
     "name": "stdout",
     "output_type": "stream",
     "text": "Accuracy: 68.00%\n"
    }
   ],
   "source": [
    "print(\"Accuracy: {:.2f}%\".format(100 * known[\"Correct\"].sum() / known[\"Correct\"].shape[0]))"
   ]
  },
  {
   "cell_type": "code",
   "execution_count": 65,
   "metadata": {},
   "outputs": [
    {
     "data": {
      "text/html": "<div>\n<style scoped>\n    .dataframe tbody tr th:only-of-type {\n        vertical-align: middle;\n    }\n\n    .dataframe tbody tr th {\n        vertical-align: top;\n    }\n\n    .dataframe thead th {\n        text-align: right;\n    }\n</style>\n<table border=\"1\" class=\"dataframe\">\n  <thead>\n    <tr style=\"text-align: right;\">\n      <th></th>\n      <th>Species</th>\n      <th>N</th>\n      <th>Status</th>\n      <th>Group2</th>\n      <th>MLdistance</th>\n      <th>MLsimilarity</th>\n      <th>AAdistance</th>\n      <th>AAsimilarity</th>\n      <th>ZtestDistance</th>\n      <th>ZtestSimilarity</th>\n      <th>Nsdistance</th>\n      <th>Nssimilarity</th>\n      <th>PatristicDistance</th>\n      <th>PatristicSimilarity</th>\n      <th>Cluster</th>\n      <th>Predict</th>\n      <th>Correct</th>\n    </tr>\n  </thead>\n  <tbody>\n    <tr>\n      <th>0</th>\n      <td>Camponotus pennsylvanicus</td>\n      <td>9</td>\n      <td>native</td>\n      <td>group_1</td>\n      <td>0.080080</td>\n      <td>0.472190</td>\n      <td>0.024540</td>\n      <td>0.293343</td>\n      <td>0.0</td>\n      <td>0.361449</td>\n      <td>0.015811</td>\n      <td>0.302313</td>\n      <td>0.100611</td>\n      <td>0.537037</td>\n      <td>0</td>\n      <td>native</td>\n      <td>1</td>\n    </tr>\n    <tr>\n      <th>1</th>\n      <td>Sirex noctilio</td>\n      <td>10</td>\n      <td>introduced</td>\n      <td>group_10</td>\n      <td>0.175632</td>\n      <td>0.000000</td>\n      <td>0.150733</td>\n      <td>0.000000</td>\n      <td>0.0</td>\n      <td>1.000000</td>\n      <td>0.135177</td>\n      <td>0.000000</td>\n      <td>0.214386</td>\n      <td>0.037037</td>\n      <td>0</td>\n      <td>native</td>\n      <td>0</td>\n    </tr>\n    <tr>\n      <th>4</th>\n      <td>Vespula maculifrons</td>\n      <td>4</td>\n      <td>native</td>\n      <td>group_102</td>\n      <td>0.460749</td>\n      <td>0.297275</td>\n      <td>0.487836</td>\n      <td>0.000000</td>\n      <td>0.0</td>\n      <td>0.077992</td>\n      <td>0.412567</td>\n      <td>0.000000</td>\n      <td>0.313117</td>\n      <td>0.358025</td>\n      <td>1</td>\n      <td>introduced</td>\n      <td>0</td>\n    </tr>\n    <tr>\n      <th>5</th>\n      <td>Pimpla aequalis</td>\n      <td>3</td>\n      <td>native</td>\n      <td>group_103</td>\n      <td>0.375581</td>\n      <td>0.171924</td>\n      <td>0.338045</td>\n      <td>0.000000</td>\n      <td>0.0</td>\n      <td>0.176708</td>\n      <td>0.321436</td>\n      <td>0.000000</td>\n      <td>0.393512</td>\n      <td>0.111111</td>\n      <td>1</td>\n      <td>introduced</td>\n      <td>0</td>\n    </tr>\n    <tr>\n      <th>12</th>\n      <td>Sirex cyaneus</td>\n      <td>1</td>\n      <td>native</td>\n      <td>group_11</td>\n      <td>0.022465</td>\n      <td>0.144228</td>\n      <td>0.036894</td>\n      <td>0.042640</td>\n      <td>0.0</td>\n      <td>0.624971</td>\n      <td>0.023351</td>\n      <td>0.043098</td>\n      <td>0.026798</td>\n      <td>0.159295</td>\n      <td>0</td>\n      <td>native</td>\n      <td>1</td>\n    </tr>\n  </tbody>\n</table>\n</div>",
      "text/plain": "                      Species   N      Status     Group2  MLdistance  \\\n0   Camponotus pennsylvanicus   9      native    group_1    0.080080   \n1              Sirex noctilio  10  introduced   group_10    0.175632   \n4         Vespula maculifrons   4      native  group_102    0.460749   \n5             Pimpla aequalis   3      native  group_103    0.375581   \n12              Sirex cyaneus   1      native   group_11    0.022465   \n\n    MLsimilarity  AAdistance  AAsimilarity  ZtestDistance  ZtestSimilarity  \\\n0       0.472190    0.024540      0.293343            0.0         0.361449   \n1       0.000000    0.150733      0.000000            0.0         1.000000   \n4       0.297275    0.487836      0.000000            0.0         0.077992   \n5       0.171924    0.338045      0.000000            0.0         0.176708   \n12      0.144228    0.036894      0.042640            0.0         0.624971   \n\n    Nsdistance  Nssimilarity  PatristicDistance  PatristicSimilarity  Cluster  \\\n0     0.015811      0.302313           0.100611             0.537037        0   \n1     0.135177      0.000000           0.214386             0.037037        0   \n4     0.412567      0.000000           0.313117             0.358025        1   \n5     0.321436      0.000000           0.393512             0.111111        1   \n12    0.023351      0.043098           0.026798             0.159295        0   \n\n       Predict  Correct  \n0       native        1  \n1       native        0  \n4   introduced        0  \n5   introduced        0  \n12      native        1  "
     },
     "execution_count": 65,
     "metadata": {},
     "output_type": "execute_result"
    }
   ],
   "source": [
    "known.head()"
   ]
  },
  {
   "cell_type": "code",
   "execution_count": 67,
   "metadata": {},
   "outputs": [
    {
     "data": {
      "text/html": "<div>\n<style scoped>\n    .dataframe tbody tr th:only-of-type {\n        vertical-align: middle;\n    }\n\n    .dataframe tbody tr th {\n        vertical-align: top;\n    }\n\n    .dataframe thead th {\n        text-align: right;\n    }\n</style>\n<table border=\"1\" class=\"dataframe\">\n  <thead>\n    <tr style=\"text-align: right;\">\n      <th></th>\n      <th>MLdistance</th>\n      <th>MLsimilarity</th>\n      <th>AAdistance</th>\n      <th>AAsimilarity</th>\n      <th>ZtestDistance</th>\n      <th>ZtestSimilarity</th>\n      <th>Nsdistance</th>\n      <th>Nssimilarity</th>\n      <th>PatristicDistance</th>\n      <th>PatristicSimilarity</th>\n    </tr>\n  </thead>\n  <tbody>\n    <tr>\n      <th>0</th>\n      <td>0.080080</td>\n      <td>0.472190</td>\n      <td>0.024540</td>\n      <td>0.293343</td>\n      <td>0.0</td>\n      <td>0.361449</td>\n      <td>0.015811</td>\n      <td>0.302313</td>\n      <td>0.100611</td>\n      <td>0.537037</td>\n    </tr>\n    <tr>\n      <th>1</th>\n      <td>0.175632</td>\n      <td>0.000000</td>\n      <td>0.150733</td>\n      <td>0.000000</td>\n      <td>0.0</td>\n      <td>1.000000</td>\n      <td>0.135177</td>\n      <td>0.000000</td>\n      <td>0.214386</td>\n      <td>0.037037</td>\n    </tr>\n    <tr>\n      <th>4</th>\n      <td>0.460749</td>\n      <td>0.297275</td>\n      <td>0.487836</td>\n      <td>0.000000</td>\n      <td>0.0</td>\n      <td>0.077992</td>\n      <td>0.412567</td>\n      <td>0.000000</td>\n      <td>0.313117</td>\n      <td>0.358025</td>\n    </tr>\n    <tr>\n      <th>5</th>\n      <td>0.375581</td>\n      <td>0.171924</td>\n      <td>0.338045</td>\n      <td>0.000000</td>\n      <td>0.0</td>\n      <td>0.176708</td>\n      <td>0.321436</td>\n      <td>0.000000</td>\n      <td>0.393512</td>\n      <td>0.111111</td>\n    </tr>\n    <tr>\n      <th>12</th>\n      <td>0.022465</td>\n      <td>0.144228</td>\n      <td>0.036894</td>\n      <td>0.042640</td>\n      <td>0.0</td>\n      <td>0.624971</td>\n      <td>0.023351</td>\n      <td>0.043098</td>\n      <td>0.026798</td>\n      <td>0.159295</td>\n    </tr>\n  </tbody>\n</table>\n</div>",
      "text/plain": "    MLdistance  MLsimilarity  AAdistance  AAsimilarity  ZtestDistance  \\\n0     0.080080      0.472190    0.024540      0.293343            0.0   \n1     0.175632      0.000000    0.150733      0.000000            0.0   \n4     0.460749      0.297275    0.487836      0.000000            0.0   \n5     0.375581      0.171924    0.338045      0.000000            0.0   \n12    0.022465      0.144228    0.036894      0.042640            0.0   \n\n    ZtestSimilarity  Nsdistance  Nssimilarity  PatristicDistance  \\\n0          0.361449    0.015811      0.302313           0.100611   \n1          1.000000    0.135177      0.000000           0.214386   \n4          0.077992    0.412567      0.000000           0.313117   \n5          0.176708    0.321436      0.000000           0.393512   \n12         0.624971    0.023351      0.043098           0.026798   \n\n    PatristicSimilarity  \n0              0.537037  \n1              0.037037  \n4              0.358025  \n5              0.111111  \n12             0.159295  "
     },
     "execution_count": 67,
     "metadata": {},
     "output_type": "execute_result"
    }
   ],
   "source": [
    "known.iloc[:, 4:-3].head()"
   ]
  },
  {
   "cell_type": "code",
   "execution_count": null,
   "metadata": {},
   "outputs": [],
   "source": []
  },
  {
   "cell_type": "code",
   "execution_count": 74,
   "metadata": {},
   "outputs": [
    {
     "ename": "SyntaxError",
     "evalue": "invalid syntax (<ipython-input-74-9643da36e909>, line 3)",
     "output_type": "error",
     "traceback": [
      "\u001b[1;36m  File \u001b[1;32m\"<ipython-input-74-9643da36e909>\"\u001b[1;36m, line \u001b[1;32m3\u001b[0m\n\u001b[1;33m    vars=[:, 4:-3],\u001b[0m\n\u001b[1;37m          ^\u001b[0m\n\u001b[1;31mSyntaxError\u001b[0m\u001b[1;31m:\u001b[0m invalid syntax\n"
     ]
    }
   ],
   "source": [
    "viz = sns.pairplot(\n",
    "    data=known,\n",
    "    vars=[:, 4:-3],\n",
    "    hue=\"Predict\"\n",
    ")\n",
    "viz"
   ]
  },
  {
   "cell_type": "code",
   "execution_count": 142,
   "metadata": {},
   "outputs": [
    {
     "name": "stdout",
     "output_type": "stream",
     "text": "Percent of Native mislabled to Introduced: 31.25%\nPercent of Introduced mislabled to Native: 11.11%\n"
    }
   ],
   "source": [
    "nerr = known[(known[\"Status\"] == \"native\") & (known[\"Correct\"] == 0)].shape[0] / known[known[\"Status\"] == \"native\"].shape[0] * 100\n",
    "ierr = known[(known[\"Status\"] == \"introduced\") & (known[\"Correct\"] == 0)].shape[0] / known[known[\"Status\"] == \"introduced\"].shape[0] * 100\n",
    "\n",
    "print(\"Percent of Native mislabled to Introduced: {:.2f}%\".format(nerr))\n",
    "print(\"Percent of Introduced mislabled to Native: {:.2f}%\".format(ierr))"
   ]
  },
  {
   "cell_type": "code",
   "execution_count": null,
   "metadata": {},
   "outputs": [],
   "source": []
  }
 ]
}