{
 "nbformat": 4,
 "nbformat_minor": 2,
 "metadata": {
  "language_info": {
   "name": "python",
   "codemirror_mode": {
    "name": "ipython",
    "version": 3
   },
   "version": "3.7.1-final"
  },
  "orig_nbformat": 2,
  "file_extension": ".py",
  "mimetype": "text/x-python",
  "name": "python",
  "npconvert_exporter": "python",
  "pygments_lexer": "ipython3",
  "version": 3,
  "kernelspec": {
   "name": "python37164bitd3933d3e47b04d8db38199ec3835d743",
   "display_name": "Python 3.7.1 64-bit"
  }
 },
 "cells": [
  {
   "cell_type": "code",
   "execution_count": 1,
   "metadata": {},
   "outputs": [],
   "source": [
    "import pandas as pd"
   ]
  },
  {
   "cell_type": "code",
   "execution_count": 2,
   "metadata": {},
   "outputs": [],
   "source": [
    "NANS = [\n",
    "    \"nan\",\n",
    "    \"NA\",\n",
    "    '',\n",
    "    ' # N/A',\n",
    "    '#N/A N/A',\n",
    "    '#NA',\n",
    "    '-1.#IND',\n",
    "    '-1.#QNAN',\n",
    "    '-NaN',\n",
    "    '-nan',\n",
    "    '1.#IND',\n",
    "    '1.#QNAN',\n",
    "    '<NA>',\n",
    "    'N/A',\n",
    "    'NA',\n",
    "    'NULL',\n",
    "    'NaN',\n",
    "    'n/a',\n",
    "    'nan',\n",
    "    'null',\n",
    "    '#DIV/0!',\n",
    "    \"unknown\",\n",
    "    \"Unknown\"\n",
    "]"
   ]
  },
  {
   "cell_type": "code",
   "execution_count": 3,
   "metadata": {},
   "outputs": [],
   "source": [
    "raw_data = pd.read_csv(\"../data/NewEnglandFinal.txt\", na_values=NANS, keep_default_na=True, sep=None)"
   ]
  },
  {
   "cell_type": "code",
   "execution_count": 7,
   "metadata": {},
   "outputs": [],
   "source": [
    "data = raw_data.iloc[:, 8:19]"
   ]
  },
  {
   "cell_type": "code",
   "execution_count": 5,
   "metadata": {},
   "outputs": [],
   "source": [
    "data_all = data.dropna()"
   ]
  },
  {
   "cell_type": "code",
   "execution_count": 7,
   "metadata": {},
   "outputs": [
    {
     "output_type": "execute_result",
     "data": {
      "text/plain": "Native        778\nIntroduced     74\nName: Final_Status, dtype: int64"
     },
     "metadata": {},
     "execution_count": 7
    }
   ],
   "source": [
    "raw_data[\"Final_Status\"].value_counts()\n",
    ""
   ]
  },
  {
   "cell_type": "code",
   "execution_count": 16,
   "metadata": {},
   "outputs": [],
   "source": [
    "cond = data_all.isin(raw_data)\n",
    "test = raw_data.iloc[cond.index]"
   ]
  },
  {
   "cell_type": "code",
   "execution_count": 22,
   "metadata": {},
   "outputs": [],
   "source": [
    "huh = test[\"Final_Status\"].value_counts()"
   ]
  },
  {
   "cell_type": "code",
   "execution_count": 19,
   "metadata": {},
   "outputs": [],
   "source": [
    "lookup = raw_data[raw_data[\"Final_Status\"] == \"Introduced\"]"
   ]
  },
  {
   "cell_type": "code",
   "execution_count": 20,
   "metadata": {},
   "outputs": [
    {
     "output_type": "execute_result",
     "data": {
      "text/plain": "Introduced    17\nName: Final_Status, dtype: int64"
     },
     "metadata": {},
     "execution_count": 20
    }
   ],
   "source": [
    "lookup.dropna()[\"Final_Status\"].value_counts()"
   ]
  },
  {
   "cell_type": "code",
   "execution_count": 21,
   "metadata": {},
   "outputs": [
    {
     "output_type": "execute_result",
     "data": {
      "text/plain": "Int64Index([   0,    2,    3,    6,   10,   11,   12,   14,   22,   23,\n            ...\n            1441, 1445, 1448, 1449, 1450, 1451, 1452, 1453, 1465, 1468],\n           dtype='int64', length=502)"
     },
     "metadata": {},
     "execution_count": 21
    }
   ],
   "source": [
    "data_all.index"
   ]
  },
  {
   "cell_type": "code",
   "execution_count": null,
   "metadata": {},
   "outputs": [],
   "source": []
  }
 ]
}