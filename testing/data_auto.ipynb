{
 "cells": [
  {
   "cell_type": "code",
   "execution_count": 7,
   "metadata": {},
   "outputs": [],
   "source": [
    "import csv\n",
    "import requests\n",
    "import os\n",
    "\n",
    "import numpy as np\n",
    "import pandas as pd\n",
    "\n",
    "from contextlib import closing\n",
    "from Bio import SeqIO\n",
    "from Bio.Align.Applications import MuscleCommandline"
   ]
  },
  {
   "cell_type": "code",
   "execution_count": 2,
   "metadata": {},
   "outputs": [
    {
     "output_type": "stream",
     "name": "stdout",
     "text": "http://www.boldsystems.org/index.php/API_Public/combined?taxon=Insecta&geo=Massachusetts&format=tsv\n"
    }
   ],
   "source": [
    "geo = \"Massachusetts\"\n",
    "taxon = \"Insecta\"\n",
    "API = \"http://www.boldsystems.org/index.php/API_Public/combined?\"\n",
    "tax_request = \"{}taxon={}&geo={}&format=tsv\".format(API, taxon, geo)\n",
    "print(tax_request)"
   ]
  },
  {
   "cell_type": "code",
   "execution_count": 3,
   "metadata": {},
   "outputs": [],
   "source": [
    "with open(\"result.tsv\", \"wb\") as file, \\\n",
    "        requests.get(tax_request, stream=True) as response:\n",
    "    for line in response.iter_lines():\n",
    "        # print(line, end=\"\\r\")\n",
    "        file.write(line)\n",
    "        file.write(b\"\\n\")"
   ]
  },
  {
   "cell_type": "code",
   "execution_count": 25,
   "metadata": {
    "tags": [
     "outputPrepend"
    ]
   },
   "outputs": [],
   "source": [
    "test = pd.read_csv(\"result.tsv\", delimiter=\"\\t\", engine=\"python\", error_bad_lines=False)\n",
    "test[\"nucleotides\"] = test[\"nucleotides\"].astype(str)"
   ]
  },
  {
   "cell_type": "code",
   "execution_count": 26,
   "metadata": {},
   "outputs": [
    {
     "output_type": "execute_result",
     "data": {
      "text/plain": "(3079, 80)"
     },
     "metadata": {},
     "execution_count": 26
    }
   ],
   "source": [
    "test.shape"
   ]
  },
  {
   "cell_type": "code",
   "execution_count": 27,
   "metadata": {},
   "outputs": [
    {
     "output_type": "execute_result",
     "data": {
      "text/plain": "(2743, 80)"
     },
     "metadata": {},
     "execution_count": 27
    }
   ],
   "source": [
    "# remove rows missing COI-5P in marker_codes\n",
    "test = test[test[\"marker_codes\"].str.contains(\"COI-5P\", na=False)]\n",
    "test.shape"
   ]
  },
  {
   "cell_type": "code",
   "execution_count": 35,
   "metadata": {},
   "outputs": [],
   "source": [
    "test[\"nucleotides\"].apply(lambda x: len([i for i in x if i.isalpha()])).unique()"
   ]
  },
  {
   "cell_type": "code",
   "execution_count": 32,
   "metadata": {},
   "outputs": [
    {
     "output_type": "execute_result",
     "data": {
      "text/plain": "(2647, 80)"
     },
     "metadata": {},
     "execution_count": 32
    }
   ],
   "source": [
    "test = test[\n",
    "    test.apply(\n",
    "    (lambda x: True if len([i for i in x[\"nucleotides\"] if i.isalpha()]) >= 350 else False),\n",
    "    axis=1\n",
    ")\n",
    "]\n",
    "test.shape"
   ]
  },
  {
   "cell_type": "code",
   "execution_count": 33,
   "metadata": {},
   "outputs": [
    {
     "output_type": "execute_result",
     "data": {
      "text/plain": "array([658, 612, 407, 610, 874, 662, 619, 677, 603, 426, 419, 632, 679,\n       556, 633, 577, 592, 621, 699, 628, 615, 571, 537, 627, 630, 476,\n       637, 576, 602, 634, 546, 643, 429, 514, 578, 563, 570, 626, 647,\n       636, 618, 393, 652, 641, 532, 600, 623, 620, 657, 625, 565, 650,\n       639, 622, 551, 665, 646, 635, 648, 656, 557, 640, 527, 587, 644,\n       573, 631, 585, 550, 614, 559, 589, 663, 509, 655, 414, 594, 698,\n       682, 518, 465, 654, 642, 378, 416, 478, 390, 351, 544, 604, 361,\n       555, 593, 678, 608, 575, 572, 696, 389, 653, 605, 403, 588, 638,\n       566, 376, 613, 651, 624, 467, 466, 538, 695, 526, 516, 607, 553,\n       541, 591, 430, 360, 692, 540, 580, 554, 410, 595, 534, 597, 498,\n       601, 507, 489, 561, 606, 586, 645, 649, 543, 583, 379, 629, 617,\n       529, 596, 599, 431, 542, 562, 683], dtype=int64)"
     },
     "metadata": {},
     "execution_count": 33
    }
   ],
   "source": [
    "test[\"nucleotides\"].apply(lambda x: len([i for i in x if i.isalpha()])).unique()"
   ]
  },
  {
   "cell_type": "code",
   "execution_count": 36,
   "metadata": {},
   "outputs": [
    {
     "output_type": "execute_result",
     "data": {
      "text/plain": "array([658, 874, 662, 677, 648, 679, 699, 735, 649, 665, 663, 656, 698,\n       682, 666, 678, 696, 605, 383, 695, 630, 692, 680, 655, 664, 683],\n      dtype=int64)"
     },
     "metadata": {},
     "execution_count": 36
    }
   ],
   "source": [
    "test[\"nucleotides\"].apply(lambda x: len(x)).unique()"
   ]
  },
  {
   "cell_type": "code",
   "execution_count": 8,
   "metadata": {},
   "outputs": [],
   "source": [
    "# save new tsv of processid, species_name, nucleotides\n",
    "test[[\"processid\", \"species_name\", \"nucleotides\"]].to_csv(\"check.tsv\", sep=\"\\t\", index=False)"
   ]
  },
  {
   "cell_type": "code",
   "execution_count": 9,
   "metadata": {},
   "outputs": [],
   "source": [
    "with open(\"out_fasta.fasta\", \"w\") as file:\n",
    "    for index, row in test.iterrows():\n",
    "        file.write(\">{}\\n\".format(row[\"processid\"]))\n",
    "        file.write(row[\"nucleotides\"])\n",
    "        file.write(\"\\n\")\n"
   ]
  },
  {
   "cell_type": "code",
   "execution_count": 40,
   "metadata": {},
   "outputs": [],
   "source": [
    "\n",
    "alignment = SeqIO.parse(\"out_fasta.fasta\", format=\"fasta\")\n",
    "records = list(alignment)\n"
   ]
  },
  {
   "cell_type": "code",
   "execution_count": 8,
   "metadata": {},
   "outputs": [],
   "source": [
    "# honestly do this call in your own subprocess so you can give the user direct feedback\n",
    "# wrap it in a function which prints when the process is complete and returns a value so you can determine if the window was closed or something or if it succeded\n",
    "alignment_call = MuscleCommandline(\n",
    "    os.path.realpath(\"niclassify/applications/muscle3.8.31_i86win32.exe\"),\n",
    "    input=os.path.realpath(\"out_fasta.fasta\"),\n",
    "    out=\"aligned.fasta\"\n",
    ")\n",
    "call_results = alignment_call()\n",
    "print(call_results)"
   ]
  },
  {
   "cell_type": "code",
   "execution_count": null,
   "metadata": {},
   "outputs": [],
   "source": [
    "import csv\n",
    "with open(\"result.tsv\", \"r\") as file:\n",
    "    reader = csv.reader(file, delimiter=\"\\t\")"
   ]
  }
 ],
 "metadata": {
  "language_info": {
   "codemirror_mode": {
    "name": "ipython",
    "version": 3
   },
   "file_extension": ".py",
   "mimetype": "text/x-python",
   "name": "python",
   "nbconvert_exporter": "python",
   "pygments_lexer": "ipython3",
   "version": "3.7.1-final"
  },
  "orig_nbformat": 2,
  "kernelspec": {
   "name": "python37164bitd3933d3e47b04d8db38199ec3835d743",
   "display_name": "Python 3.7.1 64-bit"
  }
 },
 "nbformat": 4,
 "nbformat_minor": 2
}