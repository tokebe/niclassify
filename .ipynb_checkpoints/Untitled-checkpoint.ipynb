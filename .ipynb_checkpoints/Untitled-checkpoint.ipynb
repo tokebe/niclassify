{
 "cells": [
  {
   "cell_type": "code",
   "execution_count": 18,
   "id": "c47dc262-808d-4a5d-85d7-aa373e7d6476",
   "metadata": {},
   "outputs": [],
   "source": [
    "from niclassify.core.trim.trim import trim\n",
    "from pathlib import Path\n",
    "from niclassify.core.interfaces.handler import Handler"
   ]
  },
  {
   "cell_type": "code",
   "execution_count": 19,
   "id": "7f0cc920-b035-4683-9620-35fea6a48858",
   "metadata": {},
   "outputs": [],
   "source": [
    "from pathlib import Path\n",
    "from Bio import SeqIO\n",
    "from tempfile import NamedTemporaryFile\n",
    "import shutil\n",
    "from collections import Counter\n",
    "import os\n",
    "from Bio.Seq import Seq\n",
    "import math\n"
   ]
  },
  {
   "cell_type": "code",
   "execution_count": 20,
   "id": "6a5ee67d-3487-4d39-90b8-c033e632875a",
   "metadata": {},
   "outputs": [],
   "source": [
    "input_file = Path(\"./testing/hemiptera/ma.fasta\").resolve()\n",
    "output_file = Path(\"./testing/hemiptera/ma-trim.fasta\").resolve()\n",
    "handler = Handler()\n",
    "min_agreement = 0.9"
   ]
  },
  {
   "cell_type": "code",
   "execution_count": 21,
   "id": "0dc7a363-ac5a-4af0-9f73-770707d42201",
   "metadata": {},
   "outputs": [
    {
     "name": "stdout",
     "output_type": "stream",
     "text": [
      "204\n"
     ]
    }
   ],
   "source": [
    "# Make sure we're reading the fasta fine\n",
    "read = 0\n",
    "with open(input_file, \"r\", encoding=\"utf8\") as input_fasta:\n",
    "    frames = Counter()\n",
    "    contaminant_sequences = set()\n",
    "    for record in SeqIO.parse(input_fasta, format=\"fasta\"):\n",
    "        read += 1\n",
    "print(read)"
   ]
  },
  {
   "cell_type": "code",
   "execution_count": 22,
   "id": "68f276dd-ec26-444d-9d2c-2017ee724d93",
   "metadata": {},
   "outputs": [],
   "source": [
    "\"\"\"\n",
    "Instead of this, get all valid reading frames for each seq\n",
    "then take the most common valid reading frame\n",
    "discard contaminants with no valid reading frame\n",
    "then for each seq,\n",
    "if it has the most common as a valid frame, use that\n",
    "else if it has the completment of that reading frame, use that\n",
    "otherwise, add it to list of invalid reading frame sequences\n",
    "\n",
    "then:\n",
    "report contaminants\n",
    "report invalids\n",
    "write out\n",
    "\"\"\"\n",
    "with open(input_file, \"r\", encoding=\"utf8\") as input_fasta:\n",
    "    frames = Counter()\n",
    "    contaminant_sequences = set()\n",
    "    for record in SeqIO.parse(input_fasta, format=\"fasta\"):\n",
    "        best = None\n",
    "        best_length = 0\n",
    "        for offset in range(-4, 4):\n",
    "            flip = False\n",
    "            if offset < 0:\n",
    "                flip = True\n",
    "                offset = abs(offset) - 1\n",
    "            seq = record.seq if not flip else record.seq.reverse_complement()\n",
    "            seq = seq.replace(\"-\", \"N\")\n",
    "            # seq = (\"N\" * ((3 * math.ceil(len(seq) / 3)) - len(seq))) + seq\n",
    "            # seq = (\"N\" * offset) + seq\n",
    "            seq = seq[offset:]\n",
    "            seq = seq + (\"N\" * (3 - len(seq) % 3))\n",
    "            test = Seq(seq).translate(table=\"Invertebrate Mitochondrial\", gap=\"-\")\n",
    "            if \"*\" not in test:\n",
    "                # print(f\"{flip} {offset} {test}\")\n",
    "                success = True\n",
    "                if len(test) > best_length:\n",
    "                    best = (flip, offset)\n",
    "        if best is None:\n",
    "            contaminant_sequences.add(record.id)\n",
    "        else:\n",
    "            frames.update([best])\n",
    "        n_votes = frames.total()\n",
    "        handler.debug(\n",
    "            \"Reading frame votes (offset, where negative is\",\n",
    "            \"reverse-complement and offset by abs - 2):\",\n",
    "        )\n",
    "        handler.debug(\n",
    "            \", \".join(\n",
    "                [f\"{offset}:{count / n_votes:.2f}\" for offset, count in frames.items()]\n",
    "            )\n",
    "        )\n",
    "        # if not any((count / n_votes >= min_agreement for count in frames.values())):\n",
    "        #     # os.unlink(tempfile_path)\n",
    "        #     handler.error(\n",
    "        #         \"Minimum reading frame offset agreement not met.\",\n",
    "        #         \"Your sequences may be heavily contaminated.\",\n",
    "        #         abort=True,\n",
    "        #     )\n",
    "\n",
    "        # # determine the best offset to use\n",
    "        # flip, offset = frames.most_common(1)[0]\n",
    "\n",
    "        # print(f\"flip: {flip}, offset: {offset}\")\n"
   ]
  },
  {
   "cell_type": "code",
   "execution_count": 23,
   "id": "384805ce-c4ca-4cbe-a994-fefcb9021f52",
   "metadata": {},
   "outputs": [
    {
     "data": {
      "text/plain": [
       "Counter({(False, 3): 203})"
      ]
     },
     "execution_count": 23,
     "metadata": {},
     "output_type": "execute_result"
    }
   ],
   "source": [
    "frames"
   ]
  },
  {
   "cell_type": "code",
   "execution_count": 24,
   "id": "12c552d5-0c35-47f9-aba0-5318973d3e3d",
   "metadata": {},
   "outputs": [
    {
     "data": {
      "text/plain": [
       "(False, 3)"
      ]
     },
     "execution_count": 24,
     "metadata": {},
     "output_type": "execute_result"
    }
   ],
   "source": [
    "frames.most_common()[0][0]"
   ]
  },
  {
   "cell_type": "code",
   "execution_count": 25,
   "id": "7b12f31c-7ad3-4032-a159-a93ee70e35fe",
   "metadata": {},
   "outputs": [
    {
     "data": {
      "text/plain": [
       "{'Hemiptera_ID_199'}"
      ]
     },
     "execution_count": 25,
     "metadata": {},
     "output_type": "execute_result"
    }
   ],
   "source": [
    "contaminant_sequences"
   ]
  },
  {
   "cell_type": "code",
   "execution_count": 26,
   "id": "9ec7fbd7-5ef1-4ade-86da-635e71075d14",
   "metadata": {},
   "outputs": [
    {
     "data": {
      "text/plain": [
       "[1.0]"
      ]
     },
     "execution_count": 26,
     "metadata": {},
     "output_type": "execute_result"
    }
   ],
   "source": [
    "[count / n_votes for count in frames.values()]"
   ]
  },
  {
   "cell_type": "code",
   "execution_count": null,
   "id": "546ad716-098e-4e31-8d82-94903b59523a",
   "metadata": {},
   "outputs": [],
   "source": []
  }
 ],
 "metadata": {
  "kernelspec": {
   "display_name": "Python 3 (ipykernel)",
   "language": "python",
   "name": "python3"
  },
  "language_info": {
   "codemirror_mode": {
    "name": "ipython",
    "version": 3
   },
   "file_extension": ".py",
   "mimetype": "text/x-python",
   "name": "python",
   "nbconvert_exporter": "python",
   "pygments_lexer": "ipython3",
   "version": "3.11.7"
  }
 },
 "nbformat": 4,
 "nbformat_minor": 5
}
